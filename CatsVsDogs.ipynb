{
  "nbformat": 4,
  "nbformat_minor": 0,
  "metadata": {
    "colab": {
      "name": "CatsVsDogs.ipynb",
      "provenance": [],
      "authorship_tag": "ABX9TyNTg0esP8MckZjFHwOiafy9",
      "include_colab_link": true
    },
    "kernelspec": {
      "name": "python3",
      "display_name": "Python 3"
    },
    "language_info": {
      "name": "python"
    },
    "accelerator": "GPU"
  },
  "cells": [
    {
      "cell_type": "markdown",
      "metadata": {
        "id": "view-in-github",
        "colab_type": "text"
      },
      "source": [
        "<a href=\"https://colab.research.google.com/github/prasad-dash/CatsVsDogs/blob/main/CatsVsDogs.ipynb\" target=\"_parent\"><img src=\"https://colab.research.google.com/assets/colab-badge.svg\" alt=\"Open In Colab\"/></a>"
      ]
    },
    {
      "cell_type": "code",
      "metadata": {
        "colab": {
          "base_uri": "https://localhost:8080/",
          "height": 323
        },
        "id": "T_-7JSfye6qo",
        "outputId": "20b0903f-32e3-4de3-9d16-08e3ef6ab4f3"
      },
      "source": [
        "!pip install --upgrade --force-reinstall --no-deps kaggle"
      ],
      "execution_count": null,
      "outputs": [
        {
          "output_type": "stream",
          "text": [
            "Collecting kaggle\n",
            "\u001b[?25l  Downloading https://files.pythonhosted.org/packages/3a/e7/3bac01547d2ed3d308ac92a0878fbdb0ed0f3d41fb1906c319ccbba1bfbc/kaggle-1.5.12.tar.gz (58kB)\n",
            "\r\u001b[K     |█████▋                          | 10kB 25.2MB/s eta 0:00:01\r\u001b[K     |███████████▏                    | 20kB 31.3MB/s eta 0:00:01\r\u001b[K     |████████████████▊               | 30kB 21.7MB/s eta 0:00:01\r\u001b[K     |██████████████████████▎         | 40kB 25.1MB/s eta 0:00:01\r\u001b[K     |███████████████████████████▉    | 51kB 25.0MB/s eta 0:00:01\r\u001b[K     |████████████████████████████████| 61kB 7.4MB/s \n",
            "\u001b[?25hBuilding wheels for collected packages: kaggle\n",
            "  Building wheel for kaggle (setup.py) ... \u001b[?25l\u001b[?25hdone\n",
            "  Created wheel for kaggle: filename=kaggle-1.5.12-cp37-none-any.whl size=73053 sha256=a0efe643877d0773470e787f8a3de2b68e1f0ca9de9c98ec5df85ace07406774\n",
            "  Stored in directory: /root/.cache/pip/wheels/a1/6a/26/d30b7499ff85a4a4593377a87ecf55f7d08af42f0de9b60303\n",
            "Successfully built kaggle\n",
            "Installing collected packages: kaggle\n",
            "  Found existing installation: kaggle 1.5.12\n",
            "    Uninstalling kaggle-1.5.12:\n",
            "      Successfully uninstalled kaggle-1.5.12\n",
            "Successfully installed kaggle-1.5.12\n"
          ],
          "name": "stdout"
        },
        {
          "output_type": "display_data",
          "data": {
            "application/vnd.colab-display-data+json": {
              "pip_warning": {
                "packages": [
                  "kaggle"
                ]
              }
            }
          },
          "metadata": {
            "tags": []
          }
        }
      ]
    },
    {
      "cell_type": "markdown",
      "metadata": {
        "id": "gO8v6KPrAJev"
      },
      "source": [
        "####Importing Libraries\n",
        "The following libraries have been used:\n",
        "\n",
        "\n",
        "*   Tensorflow - For deep-learning \n",
        "*   Numpy\n",
        "*   matplotlib.pyplot - For data visualisation\n",
        "*   os,shutil,random - For data organisation\n",
        "\n",
        "\n",
        "\n",
        "\n"
      ]
    },
    {
      "cell_type": "code",
      "metadata": {
        "id": "D62P9ucodNXm"
      },
      "source": [
        "import tensorflow as tf \n",
        "import numpy as np \n",
        "import matplotlib.pyplot as plt\n",
        "from os import makedirs\n",
        "from os import listdir\n",
        "from shutil import copyfile\n",
        "from random import seed\n",
        "from random import random"
      ],
      "execution_count": null,
      "outputs": []
    },
    {
      "cell_type": "markdown",
      "metadata": {
        "id": "rFMPGuQZBRYq"
      },
      "source": [
        "####Importing Datasets from Kaggle"
      ]
    },
    {
      "cell_type": "code",
      "metadata": {
        "id": "xnunrgSxdh-x"
      },
      "source": [
        "!mkdir /root/.kaggle\n",
        "!cp /content/kaggle.json /root/.kaggle"
      ],
      "execution_count": null,
      "outputs": []
    },
    {
      "cell_type": "code",
      "metadata": {
        "colab": {
          "base_uri": "https://localhost:8080/"
        },
        "id": "9sTHoF-teAst",
        "outputId": "6d038911-b697-48ff-b3df-971aa6982b80"
      },
      "source": [
        "!kaggle competitions download -c dogs-vs-cats"
      ],
      "execution_count": null,
      "outputs": [
        {
          "output_type": "stream",
          "text": [
            "Warning: Your Kaggle API key is readable by other users on this system! To fix this, you can run 'chmod 600 /root/.kaggle/kaggle.json'\n",
            "Warning: Looks like you're using an outdated API Version, please consider updating (server 1.5.12 / client 1.5.4)\n",
            "Downloading train.zip to /content\n",
            " 97% 528M/543M [00:03<00:00, 202MB/s]\n",
            "100% 543M/543M [00:03<00:00, 168MB/s]\n",
            "Downloading test1.zip to /content\n",
            " 98% 267M/271M [00:03<00:00, 57.0MB/s]\n",
            "100% 271M/271M [00:03<00:00, 89.8MB/s]\n",
            "Downloading sampleSubmission.csv to /content\n",
            "  0% 0.00/86.8k [00:00<?, ?B/s]\n",
            "100% 86.8k/86.8k [00:00<00:00, 81.3MB/s]\n"
          ],
          "name": "stdout"
        }
      ]
    },
    {
      "cell_type": "code",
      "metadata": {
        "id": "NYoYquDm7oXr"
      },
      "source": [
        "# organize dataset into a useful structure\n",
        "!unzip /content/train.zip\n",
        "# create directories\n",
        "dataset_home = 'dataset_dogs_vs_cats/'\n",
        "subdirs = ['train/', 'test/']\n",
        "for subdir in subdirs:\n",
        "\t# create label subdirectories\n",
        "\tlabeldirs = ['dogs/', 'cats/']\n",
        "\tfor labldir in labeldirs:\n",
        "\t\tnewdir = dataset_home + subdir + labldir\n",
        "\t\tmakedirs(newdir, exist_ok=True)\n",
        "# seed random number generator\n",
        "seed(1)\n",
        "# define ratio of pictures to use for validation\n",
        "val_ratio = 0.25\n",
        "# copy training dataset images into subdirectories\n",
        "src_directory = 'train/'\n",
        "for file in listdir(src_directory):\n",
        "\tsrc = src_directory + '/' + file\n",
        "\tdst_dir = 'train/'\n",
        "\tif random() < val_ratio:\n",
        "\t\tdst_dir = 'test/'\n",
        "\tif file.startswith('cat'):\n",
        "\t\tdst = dataset_home + dst_dir + 'cats/'  + file\n",
        "\t\tcopyfile(src, dst)\n",
        "\telif file.startswith('dog'):\n",
        "\t\tdst = dataset_home + dst_dir + 'dogs/'  + file\n",
        "\t\tcopyfile(src, dst)"
      ],
      "execution_count": null,
      "outputs": []
    },
    {
      "cell_type": "markdown",
      "metadata": {
        "id": "PHTlPqkLBcLz"
      },
      "source": [
        "####Creating Data-Generators for batch processing"
      ]
    },
    {
      "cell_type": "code",
      "metadata": {
        "id": "vJi5_DBrf1az",
        "colab": {
          "base_uri": "https://localhost:8080/"
        },
        "outputId": "5b77fdbf-81af-4e1d-ab67-b3410fdcc45c"
      },
      "source": [
        "DataGen=tf.keras.preprocessing.image.ImageDataGenerator(\n",
        "    rotation_range=1, width_shift_range=0.1,\n",
        "    height_shift_range=0.1, \n",
        "    brightness_range=None, \n",
        "    shear_range=0.1, \n",
        "    zoom_range=0.2, \n",
        "    fill_mode='nearest',\n",
        "    horizontal_flip=True, \n",
        "    vertical_flip=True,\n",
        "    rescale=1.0/255.0\n",
        ")\n",
        "DataGenVal=tf.keras.preprocessing.image.ImageDataGenerator(rescale=1.0/255.0,)\n",
        "trainGen=DataGen.flow_from_directory(\"/content/dataset_dogs_vs_cats/train\",class_mode=\"categorical\",target_size=(224,224))\n",
        "valGen=DataGenVal.flow_from_directory(\"/content/dataset_dogs_vs_cats/test\",class_mode=\"categorical\",target_size=(224,224))\n"
      ],
      "execution_count": null,
      "outputs": [
        {
          "output_type": "stream",
          "text": [
            "Found 18697 images belonging to 2 classes.\n",
            "Found 6303 images belonging to 2 classes.\n"
          ],
          "name": "stdout"
        }
      ]
    },
    {
      "cell_type": "markdown",
      "metadata": {
        "id": "9sIEhFT5BxaZ"
      },
      "source": [
        "####Model creation and compilation"
      ]
    },
    {
      "cell_type": "code",
      "metadata": {
        "id": "KKq1ZfJWiYSA"
      },
      "source": [
        "model=tf.keras.models.Sequential()\n",
        "\n",
        "model.add(tf.keras.layers.Conv2D(100,3,(2,2),activation=\"relu\"))\n",
        "model.add(tf.keras.layers.MaxPool2D((2,2),strides=2))\n",
        "model.add(tf.keras.layers.Dropout(0.25))\n",
        "\n",
        "model.add(tf.keras.layers.Conv2D(64,3,(2,2),activation=\"relu\"))\n",
        "model.add(tf.keras.layers.MaxPool2D((2,2),strides=2))\n",
        "model.add(tf.keras.layers.Dropout(0.25))\n",
        "\n",
        "model.add(tf.keras.layers.Conv2D(32,3,(2,2),activation=\"relu\"))\n",
        "model.add(tf.keras.layers.MaxPool2D((2,2),strides=2))\n",
        "model.add(tf.keras.layers.Dropout(0.25))\n",
        "\n",
        "model.add(tf.keras.layers.Flatten())\n",
        "\n",
        "model.add(tf.keras.layers.Dense(1000,activation=\"relu\"))\n",
        "model.add(tf.keras.layers.Dense(512,activation=\"relu\"))\n",
        "model.add(tf.keras.layers.Dense(2,activation=\"softmax\"))\n"
      ],
      "execution_count": null,
      "outputs": []
    },
    {
      "cell_type": "code",
      "metadata": {
        "id": "KqSzdzrYknWH"
      },
      "source": [
        "model.compile(optimizer=\"adam\",loss=\"categorical_crossentropy\",metrics=['accuracy'])"
      ],
      "execution_count": null,
      "outputs": []
    },
    {
      "cell_type": "code",
      "metadata": {
        "id": "dYMU608UlLdd",
        "colab": {
          "base_uri": "https://localhost:8080/"
        },
        "outputId": "b1c40410-4658-48ac-ed66-87d0983ed982"
      },
      "source": [
        "## test epoch\n",
        "model.fit(trainGen,epochs=1,validation_data=valGen,batch_size=32)"
      ],
      "execution_count": null,
      "outputs": [
        {
          "output_type": "stream",
          "text": [
            "585/585 [==============================] - 239s 407ms/step - loss: 0.6953 - accuracy: 0.5001 - val_loss: 0.6940 - val_accuracy: 0.4964\n"
          ],
          "name": "stdout"
        },
        {
          "output_type": "execute_result",
          "data": {
            "text/plain": [
              "<tensorflow.python.keras.callbacks.History at 0x7fed9e4a5490>"
            ]
          },
          "metadata": {
            "tags": []
          },
          "execution_count": 10
        }
      ]
    },
    {
      "cell_type": "markdown",
      "metadata": {
        "id": "MVQanCi1B-_a"
      },
      "source": [
        "####Model Training"
      ]
    },
    {
      "cell_type": "code",
      "metadata": {
        "id": "Fc33Uri0ogUu",
        "colab": {
          "base_uri": "https://localhost:8080/"
        },
        "outputId": "1921b3fd-8601-4503-f577-b5e67cf97543"
      },
      "source": [
        "history=model.fit(trainGen,epochs=10,validation_data=valGen,batch_size=16)"
      ],
      "execution_count": null,
      "outputs": [
        {
          "output_type": "stream",
          "text": [
            "Epoch 1/10\n",
            "585/585 [==============================] - 237s 405ms/step - loss: 0.6929 - accuracy: 0.5113 - val_loss: 0.6865 - val_accuracy: 0.5370\n",
            "Epoch 2/10\n",
            "585/585 [==============================] - 237s 406ms/step - loss: 0.6828 - accuracy: 0.5588 - val_loss: 0.6872 - val_accuracy: 0.5440\n",
            "Epoch 3/10\n",
            "585/585 [==============================] - 235s 401ms/step - loss: 0.6764 - accuracy: 0.5808 - val_loss: 0.6686 - val_accuracy: 0.5942\n",
            "Epoch 4/10\n",
            "585/585 [==============================] - 234s 400ms/step - loss: 0.6673 - accuracy: 0.5937 - val_loss: 0.6572 - val_accuracy: 0.6127\n",
            "Epoch 5/10\n",
            "585/585 [==============================] - 234s 400ms/step - loss: 0.6427 - accuracy: 0.6300 - val_loss: 0.6079 - val_accuracy: 0.6649\n",
            "Epoch 6/10\n",
            "585/585 [==============================] - 235s 402ms/step - loss: 0.6123 - accuracy: 0.6605 - val_loss: 0.5784 - val_accuracy: 0.6886\n",
            "Epoch 7/10\n",
            "585/585 [==============================] - 235s 401ms/step - loss: 0.5920 - accuracy: 0.6772 - val_loss: 0.5715 - val_accuracy: 0.6933\n",
            "Epoch 8/10\n",
            "585/585 [==============================] - 233s 399ms/step - loss: 0.5781 - accuracy: 0.6901 - val_loss: 0.5502 - val_accuracy: 0.7136\n",
            "Epoch 9/10\n",
            "585/585 [==============================] - 233s 399ms/step - loss: 0.5652 - accuracy: 0.7051 - val_loss: 0.5590 - val_accuracy: 0.7128\n",
            "Epoch 10/10\n",
            "585/585 [==============================] - 233s 398ms/step - loss: 0.5572 - accuracy: 0.7087 - val_loss: 0.5175 - val_accuracy: 0.7430\n"
          ],
          "name": "stdout"
        }
      ]
    },
    {
      "cell_type": "code",
      "metadata": {
        "colab": {
          "base_uri": "https://localhost:8080/"
        },
        "id": "cmbbvv-8PtHR",
        "outputId": "8cf4f639-55c0-405b-abdb-97a3bcbe10b7"
      },
      "source": [
        "history=model.fit(trainGen,epochs=5,validation_data=valGen,batch_size=16)"
      ],
      "execution_count": null,
      "outputs": [
        {
          "output_type": "stream",
          "text": [
            "Epoch 1/5\n",
            "585/585 [==============================] - 239s 409ms/step - loss: 0.5462 - accuracy: 0.7198 - val_loss: 0.5143 - val_accuracy: 0.7357\n",
            "Epoch 2/5\n",
            "585/585 [==============================] - 241s 411ms/step - loss: 0.5386 - accuracy: 0.7247 - val_loss: 0.5155 - val_accuracy: 0.7477\n",
            "Epoch 3/5\n",
            "585/585 [==============================] - 242s 414ms/step - loss: 0.5345 - accuracy: 0.7269 - val_loss: 0.4961 - val_accuracy: 0.7511\n",
            "Epoch 4/5\n",
            "273/585 [=============>................] - ETA: 1:58 - loss: 0.5300 - accuracy: 0.7270"
          ],
          "name": "stdout"
        }
      ]
    },
    {
      "cell_type": "markdown",
      "metadata": {
        "id": "GcmhoOrfPsn8"
      },
      "source": [
        ""
      ]
    },
    {
      "cell_type": "code",
      "metadata": {
        "id": "DTsr6lI8FcHE"
      },
      "source": [
        "model.save('/content/DogsVsCats.h5')"
      ],
      "execution_count": null,
      "outputs": []
    },
    {
      "cell_type": "markdown",
      "metadata": {
        "id": "jIWXypBQGUrJ"
      },
      "source": [
        "####Transfer Learning using VGG16 "
      ]
    },
    {
      "cell_type": "code",
      "metadata": {
        "colab": {
          "base_uri": "https://localhost:8080/"
        },
        "id": "dDbIP4aU_HOM",
        "outputId": "ca0c4586-e3c4-4235-c8bc-e2c3f47ee50b"
      },
      "source": [
        "VGGexc = tf.keras.applications.VGG16(include_top=False, input_shape=(224, 224, 3))\n",
        "for layer in VGGexc.layers:\n",
        "\t\tlayer.trainable = False\n",
        "TRmodel=tf.keras.models.Sequential(\n",
        "    [VGGexc,\n",
        "    tf.keras.layers.Flatten(),\n",
        "    tf.keras.layers.Dense(512,activation=\"relu\"),\n",
        "    tf.keras.layers.Dense(2,activation=\"softmax\")\n",
        "    ])\n",
        "TRmodel.compile(optimizer=\"adam\",loss=\"binary_crossentropy\",metrics=['accuracy'])\n",
        "TRhistory=TRmodel.fit(trainGen,epochs=5,validation_data=valGen,batch_size=16)"
      ],
      "execution_count": null,
      "outputs": [
        {
          "output_type": "stream",
          "text": [
            "Downloading data from https://storage.googleapis.com/tensorflow/keras-applications/vgg16/vgg16_weights_tf_dim_ordering_tf_kernels_notop.h5\n",
            "58892288/58889256 [==============================] - 0s 0us/step\n",
            "Epoch 1/5\n",
            "585/585 [==============================] - 274s 457ms/step - loss: 0.6616 - accuracy: 0.7934 - val_loss: 0.2163 - val_accuracy: 0.9107\n",
            "Epoch 2/5\n",
            "585/585 [==============================] - 260s 444ms/step - loss: 0.2942 - accuracy: 0.8747 - val_loss: 0.2241 - val_accuracy: 0.9066\n",
            "Epoch 3/5\n",
            "585/585 [==============================] - 260s 444ms/step - loss: 0.2798 - accuracy: 0.8790 - val_loss: 0.1990 - val_accuracy: 0.9186\n",
            "Epoch 4/5\n",
            "585/585 [==============================] - 260s 445ms/step - loss: 0.2746 - accuracy: 0.8775 - val_loss: 0.1979 - val_accuracy: 0.9170\n",
            "Epoch 5/5\n",
            "585/585 [==============================] - 262s 447ms/step - loss: 0.2683 - accuracy: 0.8820 - val_loss: 0.1784 - val_accuracy: 0.9267\n"
          ],
          "name": "stdout"
        }
      ]
    },
    {
      "cell_type": "code",
      "metadata": {
        "id": "IpIVwg6fIir4"
      },
      "source": [
        "TRmodel.save(\"/content/CatsAndDogsVgg16.h5\")"
      ],
      "execution_count": null,
      "outputs": []
    },
    {
      "cell_type": "markdown",
      "metadata": {
        "id": "qmWTwTy2Ga29"
      },
      "source": [
        "####Model summaries and training analysis\n"
      ]
    },
    {
      "cell_type": "code",
      "metadata": {
        "colab": {
          "base_uri": "https://localhost:8080/"
        },
        "id": "CV4hqtU0GQ1x",
        "outputId": "7aa8968f-cf81-4cce-e3a5-7f2ca0b025e0"
      },
      "source": [
        "model.summary()"
      ],
      "execution_count": null,
      "outputs": [
        {
          "output_type": "stream",
          "text": [
            "Model: \"sequential\"\n",
            "_________________________________________________________________\n",
            "Layer (type)                 Output Shape              Param #   \n",
            "=================================================================\n",
            "conv2d (Conv2D)              (None, None, None, 100)   2800      \n",
            "_________________________________________________________________\n",
            "max_pooling2d (MaxPooling2D) (None, None, None, 100)   0         \n",
            "_________________________________________________________________\n",
            "dropout (Dropout)            (None, None, None, 100)   0         \n",
            "_________________________________________________________________\n",
            "conv2d_1 (Conv2D)            (None, None, None, 64)    57664     \n",
            "_________________________________________________________________\n",
            "max_pooling2d_1 (MaxPooling2 (None, None, None, 64)    0         \n",
            "_________________________________________________________________\n",
            "dropout_1 (Dropout)          (None, None, None, 64)    0         \n",
            "_________________________________________________________________\n",
            "conv2d_2 (Conv2D)            (None, None, None, 32)    18464     \n",
            "_________________________________________________________________\n",
            "max_pooling2d_2 (MaxPooling2 (None, None, None, 32)    0         \n",
            "_________________________________________________________________\n",
            "dropout_2 (Dropout)          (None, None, None, 32)    0         \n",
            "_________________________________________________________________\n",
            "flatten (Flatten)            (None, None)              0         \n",
            "_________________________________________________________________\n",
            "dense (Dense)                (None, 1000)              289000    \n",
            "_________________________________________________________________\n",
            "dense_1 (Dense)              (None, 512)               512512    \n",
            "_________________________________________________________________\n",
            "dense_2 (Dense)              (None, 2)                 1026      \n",
            "=================================================================\n",
            "Total params: 881,466\n",
            "Trainable params: 881,466\n",
            "Non-trainable params: 0\n",
            "_________________________________________________________________\n"
          ],
          "name": "stdout"
        }
      ]
    },
    {
      "cell_type": "code",
      "metadata": {
        "colab": {
          "base_uri": "https://localhost:8080/"
        },
        "id": "bidiMAZvBKs_",
        "outputId": "36a7f55a-6c5e-4171-903d-5fe55058c11e"
      },
      "source": [
        "TRmodel.summary()"
      ],
      "execution_count": null,
      "outputs": [
        {
          "output_type": "stream",
          "text": [
            "Model: \"sequential_1\"\n",
            "_________________________________________________________________\n",
            "Layer (type)                 Output Shape              Param #   \n",
            "=================================================================\n",
            "vgg16 (Functional)           (None, 7, 7, 512)         14714688  \n",
            "_________________________________________________________________\n",
            "flatten_1 (Flatten)          (None, 25088)             0         \n",
            "_________________________________________________________________\n",
            "dense_3 (Dense)              (None, 512)               12845568  \n",
            "_________________________________________________________________\n",
            "dense_4 (Dense)              (None, 2)                 1026      \n",
            "=================================================================\n",
            "Total params: 27,561,282\n",
            "Trainable params: 12,846,594\n",
            "Non-trainable params: 14,714,688\n",
            "_________________________________________________________________\n"
          ],
          "name": "stdout"
        }
      ]
    },
    {
      "cell_type": "code",
      "metadata": {
        "colab": {
          "base_uri": "https://localhost:8080/",
          "height": 296
        },
        "id": "CIB0CYETA3Xh",
        "outputId": "c80afbf2-7761-480d-b8a5-92a99c8d8b70"
      },
      "source": [
        "plt.plot(history.history['accuracy'],color=\"green\",linestyle=\"-.\",label=\"Train_Acc\")\n",
        "plt.plot(history.history['loss'],color=\"green\",label=\"Train_loss\")\n",
        "plt.plot(history.history['val_accuracy'],color=\"orange\",linestyle=\"-.\",label=\"Val_Acc\")\n",
        "plt.plot(history.history['val_loss'],color=\"orange\",label=\"Val_loss\")\n",
        "plt.legend()\n",
        "plt.xlabel(\"Epochs\")\n"
      ],
      "execution_count": null,
      "outputs": [
        {
          "output_type": "execute_result",
          "data": {
            "text/plain": [
              "Text(0.5, 0, 'Epochs')"
            ]
          },
          "metadata": {
            "tags": []
          },
          "execution_count": 31
        },
        {
          "output_type": "display_data",
          "data": {
            "image/png": "[encoded data removed]",
            "text/plain": [
              "<Figure size 432x288 with 1 Axes>"
            ]
          },
          "metadata": {
            "tags": [],
            "needs_background": "light"
          }
        }
      ]
    },
    {
      "cell_type": "code",
      "metadata": {
        "id": "oQbNczrDBXJc"
      },
      "source": [
        ""
      ],
      "execution_count": null,
      "outputs": []
    },
    {
      "cell_type": "code",
      "metadata": {
        "id": "MQrGK5ElFCQc"
      },
      "source": [
        ""
      ],
      "execution_count": null,
      "outputs": []
    }
  ]
}